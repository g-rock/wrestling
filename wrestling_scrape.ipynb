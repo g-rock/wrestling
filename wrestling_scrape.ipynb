{
 "cells": [
  {
   "cell_type": "markdown",
   "id": "d7ebea0d",
   "metadata": {},
   "source": [
    " The purpose of this script is to scrape a bleacher report website and obtain a list of wrestling names 🤼"
   ]
  },
  {
   "cell_type": "code",
   "execution_count": 1,
   "id": "61a67dfc",
   "metadata": {},
   "outputs": [],
   "source": [
    "from bs4 import BeautifulSoup\n",
    "import requests\n",
    "import re"
   ]
  },
  {
   "cell_type": "code",
   "execution_count": 2,
   "id": "26188a34",
   "metadata": {},
   "outputs": [],
   "source": [
    "# Make request to URL using requests package\n",
    "url = 'https://bleacherreport.com/articles/1273228-pro-wrestlings-50-worststupidest-ring-names-of-all-time'\n",
    "r = requests.get(url)"
   ]
  },
  {
   "cell_type": "code",
   "execution_count": 3,
   "id": "360fa651",
   "metadata": {},
   "outputs": [
    {
     "data": {
      "text/plain": [
       "'<!DOCTYPE html><html class=\"no-js\" lang=\"en\" data-reactroot=\"\"><head><meta charSet=\"utf-8\"/><meta http-equiv=\"Accept-CH\" content=\"DPR,Width,Viewport-Width\"/><meta name=\"aol-te-auth\" content=\"1c424580-0f86-4d9b-88b2-bc8c0d029d4c\"/><meta name=\"blitz\" content=\"mu-6e4ce5cd-57f20d11-7c0ecee9-d55c79e2\"/><meta name=\"msvalidate.01\" content=\"7A63840181953B2A5A1FEA25FB45A991\"/><meta name=\"robots\" content=\"NOODP,NOYDIR\"/><meta name=\"verify-v1\" content=\"+Ntj422Jc4V03qgBqLYbF3LMvrursV0X2btn2Zoqn9w=\"/><meta n'"
      ]
     },
     "execution_count": 3,
     "metadata": {},
     "output_type": "execute_result"
    }
   ],
   "source": [
    "# The HTML as a python string (first five hundred characters)\n",
    "r.text[:500]"
   ]
  },
  {
   "cell_type": "code",
   "execution_count": 4,
   "id": "d0a5f9e3",
   "metadata": {},
   "outputs": [],
   "source": [
    "# Make the HTML searchable with BeautifulSoup package\n",
    "soup = BeautifulSoup(r.text)"
   ]
  },
  {
   "cell_type": "code",
   "execution_count": 5,
   "id": "8810a0fd",
   "metadata": {},
   "outputs": [
    {
     "data": {
      "text/plain": [
       "[<h1>Pro Wrestling's 50 Worst/Stupidest Ring Names of All Time</h1>,\n",
       " <h1>Pro Wrestling's 50 Worst/Stupidest Ring Names of All Time</h1>,\n",
       " <h1>50. Pegasus Kid</h1>,\n",
       " <h1>49. Shelton Benjamin</h1>,\n",
       " <h1>48. Lash LeRoux  </h1>,\n",
       " <h1>47. Pez Whatley</h1>,\n",
       " <h1>46. Test</h1>,\n",
       " <h1>45. Mean Mark Callous </h1>,\n",
       " <h1>44. Scotty 2 Hotty </h1>,\n",
       " <h1>43. Dolph Ziggler</h1>,\n",
       " <h1>42. Most Modern Divas</h1>,\n",
       " <h1>41. Giant Baba</h1>,\n",
       " <h1>40. Damien Demento  </h1>,\n",
       " <h1>39. Festus</h1>,\n",
       " <h1>38. Brutus “the Barber” Beefcake</h1>,\n",
       " <h1>37. Diamond Studd  </h1>,\n",
       " <h1>   36. Kung Fu Naki</h1>,\n",
       " <h1>35. Dump Matsumoto</h1>,\n",
       " <h1>34. Disco Inferno</h1>,\n",
       " <h1>33. Boogeyman</h1>,\n",
       " <h1>32. The Yeti</h1>,\n",
       " <h1>31. Loch Ness</h1>,\n",
       " <h1>30. Firebreaker Chip</h1>,\n",
       " <h1>29. Jimmy Wang Yang</h1>,\n",
       " <h1>28. Thurman “Sparky” Plugg  </h1>,\n",
       " <h1>27. The Red Rooster</h1>,\n",
       " <h1>26. Basham Brothers</h1>,\n",
       " <h1> 25. Justin Credible</h1>,\n",
       " <h1>24. Duke \"the Dumpster\" Droese</h1>,\n",
       " <h1>23. The Battman</h1>,\n",
       " <h1>22. Arachnaman</h1>,\n",
       " <h1>21. Chilly McFreeze</h1>,\n",
       " <h1>20. Irwin R Schyster</h1>,\n",
       " <h1>19. Max Moon</h1>,\n",
       " <h1>18. Mr. Pogo</h1>,\n",
       " <h1>17. Mantaur</h1>,\n",
       " <h1>16. Terra Ryzin  </h1>,\n",
       " <h1>15. Puke</h1>,\n",
       " <h1>14. Bastion Booger</h1>,\n",
       " <h1>13. Big Dick Johnson</h1>,\n",
       " <h1>12. M.I. Smooth</h1>,\n",
       " <h1>11. Tugboat</h1>,\n",
       " <h1>10. Meat</h1>,\n",
       " <h1>9. Shaggy 2 Dope</h1>,\n",
       " <h1>8. Shark Boy  </h1>,\n",
       " <h1>7. Henry O. Godwinn and Phinias I. Godwinn</h1>,\n",
       " <h1>6. Ze Gangsta</h1>,\n",
       " <h1>5. Isaac Yankem D.D.S.</h1>,\n",
       " <h1>4. Beaver Cleavage</h1>,\n",
       " <h1>3. Curry Man</h1>,\n",
       " <h1>2. The Blue Meanie</h1>,\n",
       " <h1>1. Ding Dongs</h1>]"
      ]
     },
     "execution_count": 5,
     "metadata": {},
     "output_type": "execute_result"
    }
   ],
   "source": [
    "# Find all h1 HTML elements\n",
    "soup.findAll('h1')"
   ]
  },
  {
   "cell_type": "code",
   "execution_count": 6,
   "id": "b6e771ec",
   "metadata": {},
   "outputs": [
    {
     "data": {
      "text/plain": [
       "[<h1>50. Pegasus Kid</h1>,\n",
       " <h1>49. Shelton Benjamin</h1>,\n",
       " <h1>48. Lash LeRoux  </h1>,\n",
       " <h1>47. Pez Whatley</h1>,\n",
       " <h1>46. Test</h1>,\n",
       " <h1>45. Mean Mark Callous </h1>,\n",
       " <h1>44. Scotty 2 Hotty </h1>,\n",
       " <h1>43. Dolph Ziggler</h1>,\n",
       " <h1>42. Most Modern Divas</h1>,\n",
       " <h1>41. Giant Baba</h1>,\n",
       " <h1>40. Damien Demento  </h1>,\n",
       " <h1>39. Festus</h1>,\n",
       " <h1>38. Brutus “the Barber” Beefcake</h1>,\n",
       " <h1>37. Diamond Studd  </h1>,\n",
       " <h1>35. Dump Matsumoto</h1>,\n",
       " <h1>34. Disco Inferno</h1>,\n",
       " <h1>33. Boogeyman</h1>,\n",
       " <h1>32. The Yeti</h1>,\n",
       " <h1>31. Loch Ness</h1>,\n",
       " <h1>30. Firebreaker Chip</h1>,\n",
       " <h1>29. Jimmy Wang Yang</h1>,\n",
       " <h1>28. Thurman “Sparky” Plugg  </h1>,\n",
       " <h1>27. The Red Rooster</h1>,\n",
       " <h1>26. Basham Brothers</h1>,\n",
       " <h1>24. Duke \"the Dumpster\" Droese</h1>,\n",
       " <h1>23. The Battman</h1>,\n",
       " <h1>22. Arachnaman</h1>,\n",
       " <h1>21. Chilly McFreeze</h1>,\n",
       " <h1>20. Irwin R Schyster</h1>,\n",
       " <h1>19. Max Moon</h1>,\n",
       " <h1>18. Mr. Pogo</h1>,\n",
       " <h1>17. Mantaur</h1>,\n",
       " <h1>16. Terra Ryzin  </h1>,\n",
       " <h1>15. Puke</h1>,\n",
       " <h1>14. Bastion Booger</h1>,\n",
       " <h1>13. Big Dick Johnson</h1>,\n",
       " <h1>12. M.I. Smooth</h1>,\n",
       " <h1>11. Tugboat</h1>,\n",
       " <h1>10. Meat</h1>,\n",
       " <h1>9. Shaggy 2 Dope</h1>,\n",
       " <h1>8. Shark Boy  </h1>,\n",
       " <h1>7. Henry O. Godwinn and Phinias I. Godwinn</h1>,\n",
       " <h1>6. Ze Gangsta</h1>,\n",
       " <h1>5. Isaac Yankem D.D.S.</h1>,\n",
       " <h1>4. Beaver Cleavage</h1>,\n",
       " <h1>3. Curry Man</h1>,\n",
       " <h1>2. The Blue Meanie</h1>,\n",
       " <h1>1. Ding Dongs</h1>]"
      ]
     },
     "execution_count": 6,
     "metadata": {},
     "output_type": "execute_result"
    }
   ],
   "source": [
    "# Find all h1 elements with one or two digits followed by a period\n",
    "# Introduction to regular expressions: https://docs.python.org/3/howto/regex.html\n",
    "h1_elements = soup.findAll('h1', text=re.compile('^\\d{1,2}.'))\n",
    "h1_elements"
   ]
  },
  {
   "cell_type": "code",
   "execution_count": 7,
   "id": "9b83ee01",
   "metadata": {},
   "outputs": [],
   "source": [
    "# Clean the names by \n",
    "# a) Removing the leading digits and period (re.sub)\n",
    "# b) stripping the leading and ending whitespace (strip)\n",
    "names = []\n",
    "for elem in h1_elements:\n",
    "    clean_name = re.sub(r'^\\d{1,2}. ', '', elem.text).strip()\n",
    "    names.append(clean_name)"
   ]
  },
  {
   "cell_type": "code",
   "execution_count": 8,
   "id": "bbe6d42d",
   "metadata": {},
   "outputs": [
    {
     "data": {
      "text/plain": [
       "['Pegasus Kid',\n",
       " 'Shelton Benjamin',\n",
       " 'Lash LeRoux',\n",
       " 'Pez Whatley',\n",
       " 'Test',\n",
       " 'Mean Mark Callous',\n",
       " 'Scotty 2 Hotty',\n",
       " 'Dolph Ziggler',\n",
       " 'Most Modern Divas',\n",
       " 'Giant Baba',\n",
       " 'Damien Demento',\n",
       " 'Festus',\n",
       " 'Brutus “the Barber” Beefcake',\n",
       " 'Diamond Studd',\n",
       " 'Dump Matsumoto',\n",
       " 'Disco Inferno',\n",
       " 'Boogeyman',\n",
       " 'The Yeti',\n",
       " 'Loch Ness',\n",
       " 'Firebreaker Chip',\n",
       " 'Jimmy Wang Yang',\n",
       " 'Thurman “Sparky” Plugg',\n",
       " 'The Red Rooster',\n",
       " 'Basham Brothers',\n",
       " 'Duke \"the Dumpster\" Droese',\n",
       " 'The Battman',\n",
       " 'Arachnaman',\n",
       " 'Chilly McFreeze',\n",
       " 'Irwin R Schyster',\n",
       " 'Max Moon',\n",
       " 'Mr. Pogo',\n",
       " 'Mantaur',\n",
       " 'Terra Ryzin',\n",
       " 'Puke',\n",
       " 'Bastion Booger',\n",
       " 'Big Dick Johnson',\n",
       " 'M.I. Smooth',\n",
       " 'Tugboat',\n",
       " 'Meat',\n",
       " 'Shaggy 2 Dope',\n",
       " 'Shark Boy',\n",
       " 'Henry O. Godwinn and Phinias I. Godwinn',\n",
       " 'Ze Gangsta',\n",
       " 'Isaac Yankem D.D.S.',\n",
       " 'Beaver Cleavage',\n",
       " 'Curry Man',\n",
       " 'The Blue Meanie',\n",
       " 'Ding Dongs']"
      ]
     },
     "execution_count": 8,
     "metadata": {},
     "output_type": "execute_result"
    }
   ],
   "source": [
    "names"
   ]
  }
 ],
 "metadata": {
  "kernelspec": {
   "display_name": "Python 3 (ipykernel)",
   "language": "python",
   "name": "python3"
  },
  "language_info": {
   "codemirror_mode": {
    "name": "ipython",
    "version": 3
   },
   "file_extension": ".py",
   "mimetype": "text/x-python",
   "name": "python",
   "nbconvert_exporter": "python",
   "pygments_lexer": "ipython3",
   "version": "3.10.6"
  }
 },
 "nbformat": 4,
 "nbformat_minor": 5
}
